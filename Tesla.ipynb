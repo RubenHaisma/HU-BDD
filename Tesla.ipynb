{
 "cells": [
  {
   "cell_type": "markdown",
   "id": "20244458",
   "metadata": {},
   "source": [
    "# Tesla Autopilot Deaths vs Deaths"
   ]
  },
  {
   "cell_type": "markdown",
   "id": "7356813b",
   "metadata": {},
   "source": [
    "#### Here you'll find multiple graphs, using the first 250 cases of a dataset from tesla-deaths.com, comparing the Autopilot with normal accidents. "
   ]
  },
  {
   "cell_type": "code",
   "execution_count": 45,
   "id": "a384699b",
   "metadata": {
    "scrolled": false
   },
   "outputs": [
    {
     "data": {
      "text/html": [
       "<div>\n",
       "<style scoped>\n",
       "    .dataframe tbody tr th:only-of-type {\n",
       "        vertical-align: middle;\n",
       "    }\n",
       "\n",
       "    .dataframe tbody tr th {\n",
       "        vertical-align: top;\n",
       "    }\n",
       "\n",
       "    .dataframe thead th {\n",
       "        text-align: right;\n",
       "    }\n",
       "</style>\n",
       "<table border=\"1\" class=\"dataframe\">\n",
       "  <thead>\n",
       "    <tr style=\"text-align: right;\">\n",
       "      <th></th>\n",
       "      <th>Year</th>\n",
       "      <th>Date</th>\n",
       "      <th>Country</th>\n",
       "      <th>State</th>\n",
       "      <th>Description</th>\n",
       "      <th>Deaths</th>\n",
       "      <th>Tesla driver</th>\n",
       "      <th>Tesla occupant</th>\n",
       "      <th>Other vehicle</th>\n",
       "      <th>Cyclists/ Peds</th>\n",
       "      <th>TSLA+cycl / peds</th>\n",
       "      <th>Model</th>\n",
       "      <th>AutoPilot claimed</th>\n",
       "      <th>Verified Tesla Autopilot Death</th>\n",
       "      <th>Source</th>\n",
       "      <th>Note</th>\n",
       "      <th>Deceased 1</th>\n",
       "      <th>Deceased 2</th>\n",
       "      <th>Deceased 3</th>\n",
       "      <th>Deceased 4</th>\n",
       "    </tr>\n",
       "  </thead>\n",
       "  <tbody>\n",
       "    <tr>\n",
       "      <th>0</th>\n",
       "      <td>2022</td>\n",
       "      <td>5/1/2022</td>\n",
       "      <td>USA</td>\n",
       "      <td>PA</td>\n",
       "      <td>Tesla DUI hits pedestrian</td>\n",
       "      <td>1</td>\n",
       "      <td>-</td>\n",
       "      <td>-</td>\n",
       "      <td>-</td>\n",
       "      <td>1</td>\n",
       "      <td>1</td>\n",
       "      <td>-</td>\n",
       "      <td>-</td>\n",
       "      <td>-</td>\n",
       "      <td>https://twitter.com/KeeleyFox29/status/152080...</td>\n",
       "      <td>NaN</td>\n",
       "      <td>NaN</td>\n",
       "      <td>NaN</td>\n",
       "      <td>NaN</td>\n",
       "      <td>NaN</td>\n",
       "    </tr>\n",
       "    <tr>\n",
       "      <th>1</th>\n",
       "      <td>2022</td>\n",
       "      <td>4/30/2022</td>\n",
       "      <td>USA</td>\n",
       "      <td>NC</td>\n",
       "      <td>Highway accident, Tesla goes airborne</td>\n",
       "      <td>1</td>\n",
       "      <td>1</td>\n",
       "      <td>-</td>\n",
       "      <td>-</td>\n",
       "      <td>-</td>\n",
       "      <td>-</td>\n",
       "      <td>-</td>\n",
       "      <td>-</td>\n",
       "      <td>-</td>\n",
       "      <td>https://www.cbs17.com/news/local-news/durham-...</td>\n",
       "      <td>NaN</td>\n",
       "      <td>NaN</td>\n",
       "      <td>NaN</td>\n",
       "      <td>NaN</td>\n",
       "      <td>NaN</td>\n",
       "    </tr>\n",
       "    <tr>\n",
       "      <th>2</th>\n",
       "      <td>2022</td>\n",
       "      <td>4/10/2022</td>\n",
       "      <td>UK</td>\n",
       "      <td>NaN</td>\n",
       "      <td>Two car accident</td>\n",
       "      <td>1</td>\n",
       "      <td>-</td>\n",
       "      <td>-</td>\n",
       "      <td>1</td>\n",
       "      <td>-</td>\n",
       "      <td>-</td>\n",
       "      <td>-</td>\n",
       "      <td>-</td>\n",
       "      <td>-</td>\n",
       "      <td>https://www.hertsad.co.uk/news/traffic/tesla-...</td>\n",
       "      <td>NaN</td>\n",
       "      <td>NaN</td>\n",
       "      <td>NaN</td>\n",
       "      <td>NaN</td>\n",
       "      <td>NaN</td>\n",
       "    </tr>\n",
       "    <tr>\n",
       "      <th>3</th>\n",
       "      <td>2022</td>\n",
       "      <td>4/8/2022</td>\n",
       "      <td>Netherlands</td>\n",
       "      <td>NaN</td>\n",
       "      <td>Head-on collision with truck and Tesla</td>\n",
       "      <td>1</td>\n",
       "      <td>-</td>\n",
       "      <td>-</td>\n",
       "      <td>-</td>\n",
       "      <td>-</td>\n",
       "      <td>1</td>\n",
       "      <td>-</td>\n",
       "      <td>-</td>\n",
       "      <td>-</td>\n",
       "      <td>https://www.ad.nl/auto/automobilist-komt-om-h...</td>\n",
       "      <td>NaN</td>\n",
       "      <td>NaN</td>\n",
       "      <td>NaN</td>\n",
       "      <td>NaN</td>\n",
       "      <td>NaN</td>\n",
       "    </tr>\n",
       "    <tr>\n",
       "      <th>4</th>\n",
       "      <td>2022</td>\n",
       "      <td>3/21/2022</td>\n",
       "      <td>USA</td>\n",
       "      <td>CA</td>\n",
       "      <td>Three car collision involving Tesla</td>\n",
       "      <td>2</td>\n",
       "      <td>-</td>\n",
       "      <td>-</td>\n",
       "      <td>2</td>\n",
       "      <td>-</td>\n",
       "      <td>-</td>\n",
       "      <td>-</td>\n",
       "      <td>-</td>\n",
       "      <td>-</td>\n",
       "      <td>https://kion546.com/news/2022/03/21/two-peopl...</td>\n",
       "      <td>NaN</td>\n",
       "      <td>NaN</td>\n",
       "      <td>NaN</td>\n",
       "      <td>NaN</td>\n",
       "      <td>NaN</td>\n",
       "    </tr>\n",
       "  </tbody>\n",
       "</table>\n",
       "</div>"
      ],
      "text/plain": [
       "   Year       Date       Country   State   \\\n",
       "0  2022   5/1/2022           USA      PA    \n",
       "1  2022  4/30/2022           USA      NC    \n",
       "2  2022  4/10/2022            UK      NaN   \n",
       "3  2022   4/8/2022   Netherlands      NaN   \n",
       "4  2022  3/21/2022           USA      CA    \n",
       "\n",
       "                               Description    Deaths   Tesla driver   \\\n",
       "0                Tesla DUI hits pedestrian          1             -    \n",
       "1   Highway accident, Tesla goes airborne           1              1   \n",
       "2                         Two car accident          1             -    \n",
       "3   Head-on collision with truck and Tesla          1             -    \n",
       "4      Three car collision involving Tesla          2             -    \n",
       "\n",
       "   Tesla occupant   Other vehicle   Cyclists/ Peds   TSLA+cycl / peds   \\\n",
       "0               -               -                 1                  1   \n",
       "1               -               -                -                  -    \n",
       "2               -                1               -                  -    \n",
       "3               -               -                -                   1   \n",
       "4               -                2               -                  -    \n",
       "\n",
       "   Model   AutoPilot claimed   Verified Tesla Autopilot Death   \\\n",
       "0      -                   -                                -    \n",
       "1      -                   -                                -    \n",
       "2      -                   -                                -    \n",
       "3      -                   -                                -    \n",
       "4      -                   -                                -    \n",
       "\n",
       "                                             Source   Note   Deceased 1   \\\n",
       "0   https://twitter.com/KeeleyFox29/status/152080...    NaN          NaN   \n",
       "1   https://www.cbs17.com/news/local-news/durham-...    NaN          NaN   \n",
       "2   https://www.hertsad.co.uk/news/traffic/tesla-...    NaN          NaN   \n",
       "3   https://www.ad.nl/auto/automobilist-komt-om-h...    NaN          NaN   \n",
       "4   https://kion546.com/news/2022/03/21/two-peopl...    NaN          NaN   \n",
       "\n",
       "   Deceased 2   Deceased 3    Deceased 4   \n",
       "0          NaN          NaN           NaN  \n",
       "1          NaN          NaN           NaN  \n",
       "2          NaN          NaN           NaN  \n",
       "3          NaN          NaN           NaN  \n",
       "4          NaN          NaN           NaN  "
      ]
     },
     "execution_count": 45,
     "metadata": {},
     "output_type": "execute_result"
    }
   ],
   "source": [
    "import seaborn as sns \n",
    "import pandas as pd \n",
    "import matplotlib.pyplot as plt\n",
    "\n",
    "df1 = pd.read_csv('tesla_2.csv')\n",
    "df1.head()\n"
   ]
  },
  {
   "cell_type": "markdown",
   "id": "f90391ef",
   "metadata": {},
   "source": [
    "Basic overview of what the dataset looks like. "
   ]
  },
  {
   "cell_type": "code",
   "execution_count": null,
   "id": "893006b1",
   "metadata": {},
   "outputs": [],
   "source": []
  },
  {
   "cell_type": "code",
   "execution_count": 53,
   "id": "db2266c2",
   "metadata": {
    "scrolled": true
   },
   "outputs": [
    {
     "data": {
      "image/png": "[encoded data removed]",
      "text/plain": [
       "<Figure size 432x288 with 1 Axes>"
      ]
     },
     "metadata": {
      "needs_background": "light"
     },
     "output_type": "display_data"
    }
   ],
   "source": [
    "# open the csv file\n",
    "with open('tesla_2.csv', 'r') as csvfile:\n",
    "    # read the csv file\n",
    "    csvreader = csv.reader(csvfile)\n",
    "    # skip the header\n",
    "    next(csvreader)\n",
    "    # create a list for the years\n",
    "    years = []\n",
    "    # create a list for the deaths\n",
    "    deaths = []\n",
    "    # loop through the rows\n",
    "    for row in csvreader:\n",
    "        # add the year to the years list\n",
    "        years.append(row[0])\n",
    "        # add the deaths to the deaths list\n",
    "        deaths.append(row[5])\n",
    "\n",
    "# create a bar chart\n",
    "plt.bar(years, deaths)\n",
    "# set the title\n",
    "plt.title('Deaths')\n",
    "# set the x label\n",
    "plt.xlabel('Year')\n",
    "# set the y label\n",
    "plt.ylabel('Deaths')\n",
    "# show the plot\n",
    "plt.show()\n"
   ]
  },
  {
   "cell_type": "markdown",
   "id": "63faa689",
   "metadata": {},
   "source": [
    "In this graph you can clearly see the amount of deaths there have been in the 250 cases we looked at. There are mostly two, and max 4, deaths each year. This is overall, now let's take a look at the Tesla Autopilot. "
   ]
  },
  {
   "cell_type": "code",
   "execution_count": null,
   "id": "256b71b3",
   "metadata": {},
   "outputs": [],
   "source": []
  },
  {
   "cell_type": "code",
   "execution_count": 54,
   "id": "536a25a7",
   "metadata": {},
   "outputs": [
    {
     "data": {
      "image/png": "[encoded data removed]",
      "text/plain": [
       "<Figure size 432x288 with 1 Axes>"
      ]
     },
     "metadata": {
      "needs_background": "light"
     },
     "output_type": "display_data"
    }
   ],
   "source": [
    "# open the csv file\n",
    "with open('tesla_2.csv', 'r') as csvfile:\n",
    "    # read the csv file\n",
    "    csvreader = csv.reader(csvfile)\n",
    "    # skip the header\n",
    "    next(csvreader)\n",
    "    # create a list for the years\n",
    "    years = []\n",
    "    # create a list for the deaths\n",
    "    deaths = []\n",
    "    # loop through the rows\n",
    "    for row in csvreader:\n",
    "        # add the year to the years list\n",
    "        years.append(row[0])\n",
    "        # add the deaths to the deaths list\n",
    "        deaths.append(row[13])\n",
    "\n",
    "# create a bar chart\n",
    "plt.bar(years, deaths)\n",
    "# set the title\n",
    "plt.title('Deaths')\n",
    "# set the x label\n",
    "plt.xlabel('Year')\n",
    "# set the y label\n",
    "plt.ylabel('Tesla Deaths')\n",
    "# show the plot\n",
    "plt.show()"
   ]
  },
  {
   "cell_type": "raw",
   "id": "94b09c37",
   "metadata": {},
   "source": [
    "Here we can see the amount of deaths that are verified deaths using the Tesla Autoplilot. Not a lot, but certainly too many. But, compared to the graph above, we can see a lot less deaths. Six deaths over 9 years. IN the graph above, twenty. So off the total of twenty, six were caused by Tesla Autopliot. "
   ]
  },
  {
   "cell_type": "code",
   "execution_count": null,
   "id": "8a5ce1e0",
   "metadata": {},
   "outputs": [],
   "source": []
  }
 ],
 "metadata": {
  "kernelspec": {
   "display_name": "Python 3 (ipykernel)",
   "language": "python",
   "name": "python3"
  },
  "language_info": {
   "codemirror_mode": {
    "name": "ipython",
    "version": 3
   },
   "file_extension": ".py",
   "mimetype": "text/x-python",
   "name": "python",
   "nbconvert_exporter": "python",
   "pygments_lexer": "ipython3",
   "version": "3.9.12"
  }
 },
 "nbformat": 4,
 "nbformat_minor": 5
}
